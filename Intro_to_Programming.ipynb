{
 "cells": [
  {
   "cell_type": "markdown",
   "metadata": {},
   "source": [
    "# Table of Contents\n",
    "1. [What is Programming](#1.-What-is-Programming?)\n",
    "\n",
    "2. [Types of Programming Languages](#2.-Types-of-Programming-Languages)\n",
    "\n",
    "3. [Why Python for AI?](#3.-Why-Python-for-AI?)\n",
    "\n",
    "4. [Getting Started with Python](#4.-Getting-Started-with-Python)\n",
    "\n",
    "5. [Key Concepts to Start With](#5.-Key-Concepts-to-Start-With)\n",
    "\n",
    "6. [Next Steps in Programming](#6.-Next-Steps-in-Programming)\n"
   ]
  },
  {
   "cell_type": "markdown",
   "metadata": {},
   "source": [
    "# 1. What is Programming?"
   ]
  },
  {
   "cell_type": "markdown",
   "metadata": {
    "jp-MarkdownHeadingCollapsed": true
   },
   "source": [
    "- ## Definition of programming and its role in problem-solving.\n",
    "    Programming is the process of giving the computer a set of instructions that describe how a program should be carried out. \\\n",
    "    It can be done using a *Programming Language*, which then gets converted to a language that the machine understands called the *Machine Language*. \\\n",
    "    Programming languages are here to provide us with an easier way to communicate with the machine, instead of just using Assembly instructions or even plain Binary."
   ]
  },
  {
   "cell_type": "markdown",
   "metadata": {
    "jp-MarkdownHeadingCollapsed": true
   },
   "source": [
    "- ## How programming translates human instructions into machine actions.\n",
    "    It does so using a *Compiler* which converts human readable code to Machine language or Binary which can be understood by the Processor."
   ]
  },
  {
   "cell_type": "markdown",
   "metadata": {},
   "source": [
    "<p style=\"text-align: center;\">\n",
    "    Toy Flowchart\n",
    "</p>\n",
    "<br/>\n",
    "<div style=\"text-align:center\">\n",
    "    <img src=\"src/flowchart.png\" />\n",
    "</div>"
   ]
  },
  {
   "cell_type": "markdown",
   "metadata": {},
   "source": [
    "# 2. Types of Programming Languages"
   ]
  },
  {
   "cell_type": "markdown",
   "metadata": {},
   "source": [
    "- Procedural Programming: Step-by-step instructions (e.g., C).\n",
    "    - Drawing a flowchart for a factory production line."
   ]
  },
  {
   "cell_type": "markdown",
   "metadata": {},
   "source": [
    "- Object-Oriented Programming: Working with objects and classes (e.g., Python, Java, C#).\n",
    "    - Modeling a car as a class with properties like color and methods like drive."
   ]
  },
  {
   "cell_type": "markdown",
   "metadata": {},
   "source": [
    "- Functional Programming: Focus on functions and immutability (e.g., Haskell, Python)\n",
    "    - Putting code in reusable functions."
   ]
  },
  {
   "cell_type": "markdown",
   "metadata": {},
   "source": [
    "- Declarative Programming: What to achieve rather than how (e.g., SQL).\n",
    "    - Querying a database to get customer names without coding the 'how'."
   ]
  },
  {
   "cell_type": "markdown",
   "metadata": {},
   "source": [
    "## 2.1. Compiled vs Interpreted Languages"
   ]
  },
  {
   "cell_type": "markdown",
   "metadata": {},
   "source": [
    "- ### Definition of compiled and interpreted languages.\n",
    "    - *Compiled* languages are converted directly into machine code that the processor can execute.\n",
    "    - *Interpreters* run through a program line by line and execute each command."
   ]
  },
  {
   "cell_type": "markdown",
   "metadata": {},
   "source": [
    "- ### Advantages and disadvantages of each approach.\n",
    "    - Compiled languages tend to be faster and more efficient. They also give the developer more control over hardware aspects, like memory management and CPU usage. On the down side, they require additional time to complete the compilation step before testing and the resulting binary code is dependent on the current platform. (Optimized for performance but less flexible.)\n",
    "\n",
    "    - Interpreted languages tend to be more flexible, and often offer features like dynamic typing and smaller program size. Also, because the interpreters execute the source program code themselves, the code itself is platform independent. On the down side, they take more time to execute than the compiled languages. But with the development of *Just-in-Time Compilation*, that gap is shrinking. (Look: JVM (Java), CLR (C#)) (Easier debugging but slower runtime.)"
   ]
  },
  {
   "cell_type": "markdown",
   "metadata": {},
   "source": [
    "| Feature             | Compiled (e.g., C) | Interpreted (e.g., Python) |\n",
    "| ------------------- | ------------------ | -------------------------- |\n",
    "| Speed               | Fast               | Slower                     |\n",
    "| Platform Dependency | Dependent          | Independent                |\n",
    "| Ease of Debugging   | Harder             | Easier                     |"
   ]
  },
  {
   "cell_type": "markdown",
   "metadata": {},
   "source": [
    "- ### Examples\n",
    "    - Compiled: C, C++, Go...\n",
    "    - Interpreted: Python, JavaScript, PHP..."
   ]
  },
  {
   "cell_type": "markdown",
   "metadata": {},
   "source": [
    "## 2.2. Dynamically vs Strongly Typed"
   ]
  },
  {
   "cell_type": "markdown",
   "metadata": {},
   "source": [
    "- ##### Explanation of type systems and their significance."
   ]
  },
  {
   "cell_type": "markdown",
   "metadata": {},
   "source": [
    "- ##### Key differences between dynamic and static typing."
   ]
  },
  {
   "cell_type": "markdown",
   "metadata": {},
   "source": [
    "```python\n",
    "    # Dynamically typed, no need to specify type\n",
    "    x = 3.14\n",
    "    x = \"Hello\"\n",
    "    \n",
    "    # Statically typed, you have to specify the variable type\n",
    "    float x = 3.14\n",
    "    x = \"Hello\" # ERROR\n",
    "    str x = \"Hello\" # ERROR\n",
    "\n",
    "    str y = \"Hello\"\n",
    "    "
   ]
  },
  {
   "cell_type": "markdown",
   "metadata": {},
   "source": [
    "- ##### Ex: Python is dynamically typed. Java, C are strongly typed."
   ]
  },
  {
   "cell_type": "markdown",
   "metadata": {},
   "source": [
    "# 3. Why Python for AI?"
   ]
  },
  {
   "cell_type": "markdown",
   "metadata": {},
   "source": [
    "- Python's simplicity and readability.\n",
    "- Rich ecosystem of AI/ML libraries (e.g., NumPy, TensorFlow, PyTorch).\n",
    "- Active community and industry adoption."
   ]
  },
  {
   "cell_type": "markdown",
   "metadata": {},
   "source": [
    "- Example: https://diyeddin-bcwisconson.streamlit.app/"
   ]
  },
  {
   "cell_type": "markdown",
   "metadata": {},
   "source": [
    "# 4. Getting Started with Python"
   ]
  },
  {
   "cell_type": "markdown",
   "metadata": {},
   "source": [
    "- Setting up the environment:\n",
    "\n",
    "    - Installing Python https://www.python.org/downloads/\n",
    "    - Integrated Development Environment (IDE) suggestions (e.g., VSCode, Anaconda, Jupyter Notebook)."
   ]
  },
  {
   "cell_type": "markdown",
   "metadata": {},
   "source": [
    "- First Python program: “Hello, World!”"
   ]
  },
  {
   "cell_type": "markdown",
   "metadata": {},
   "source": [
    "```python\n",
    "print(\"Hello, World!\")"
   ]
  },
  {
   "cell_type": "code",
   "execution_count": null,
   "metadata": {},
   "outputs": [],
   "source": []
  },
  {
   "cell_type": "markdown",
   "metadata": {},
   "source": [
    "# 5. Key Concepts to Start With"
   ]
  },
  {
   "cell_type": "markdown",
   "metadata": {},
   "source": [
    "- ## Introduction to syntax and indentation in Python.\n",
    "\\\n",
    "![Python Indentation](src/indentation.jpg)"
   ]
  },
  {
   "cell_type": "markdown",
   "metadata": {},
   "source": [
    "### Comments"
   ]
  },
  {
   "cell_type": "markdown",
   "metadata": {},
   "source": [
    "```python\n",
    "# This is a comment, it's used to explain WHY the line of code exists. It's advised that you use comments to explain ambiguous parts of your code!"
   ]
  },
  {
   "cell_type": "code",
   "execution_count": null,
   "metadata": {},
   "outputs": [],
   "source": []
  },
  {
   "cell_type": "markdown",
   "metadata": {},
   "source": [
    "### Indentation"
   ]
  },
  {
   "cell_type": "markdown",
   "metadata": {},
   "source": [
    "```python\n",
    "# a correctly indented if block\n",
    "if 5 > 3:\n",
    "    print(\"Worked!\")\n",
    "\n",
    "# this is wrong\n",
    "if 5 > 3:\n",
    "print(\"Worked!\")"
   ]
  },
  {
   "cell_type": "code",
   "execution_count": null,
   "metadata": {},
   "outputs": [],
   "source": []
  },
  {
   "cell_type": "markdown",
   "metadata": {},
   "source": [
    "### Creating Variables"
   ]
  },
  {
   "cell_type": "markdown",
   "metadata": {},
   "source": [
    "```python\n",
    "x = 5\n",
    "y = \"Hello!\"\n"
   ]
  },
  {
   "cell_type": "code",
   "execution_count": null,
   "metadata": {},
   "outputs": [],
   "source": []
  },
  {
   "cell_type": "markdown",
   "metadata": {},
   "source": [
    "- ## Variables and data types:\n",
    "    - ### Strings, integers, floats, booleans."
   ]
  },
  {
   "cell_type": "markdown",
   "metadata": {},
   "source": [
    "```python\n",
    "a = 123 # int\n",
    "b = 3.14 # float\n",
    "c = 2 - 3j # complex number\n",
    "d = True # boolean\n",
    "e = 'abcd' # str, a string starts and ends with a pair of ' or \".\n",
    "f = b'abcd' # bytes\n",
    "\n",
    "type(f)"
   ]
  },
  {
   "cell_type": "code",
   "execution_count": 16,
   "metadata": {},
   "outputs": [
    {
     "data": {
      "text/plain": [
       "bool"
      ]
     },
     "execution_count": 16,
     "metadata": {},
     "output_type": "execute_result"
    }
   ],
   "source": [
    "e = True\n",
    "\n",
    "type(e)"
   ]
  },
  {
   "cell_type": "markdown",
   "metadata": {},
   "source": [
    "### Type Casting"
   ]
  },
  {
   "cell_type": "markdown",
   "metadata": {},
   "source": [
    "```python\n",
    "int()\n",
    "float()\n",
    "str()\n",
    "list()\n",
    "dict()\n",
    "set()\n",
    "tup()\n",
    "bool()"
   ]
  },
  {
   "cell_type": "code",
   "execution_count": 19,
   "metadata": {},
   "outputs": [
    {
     "data": {
      "text/plain": [
       "3"
      ]
     },
     "execution_count": 19,
     "metadata": {},
     "output_type": "execute_result"
    }
   ],
   "source": [
    "e = 3.14\n",
    "\n",
    "int(e)"
   ]
  },
  {
   "cell_type": "markdown",
   "metadata": {},
   "source": [
    "#### Explicit vs Implicit Casting?"
   ]
  },
  {
   "cell_type": "code",
   "execution_count": 21,
   "metadata": {},
   "outputs": [
    {
     "data": {
      "text/plain": [
       "float"
      ]
     },
     "execution_count": 21,
     "metadata": {},
     "output_type": "execute_result"
    }
   ],
   "source": [
    "a = 3\n",
    "b = 2\n",
    "\n",
    "\n",
    "x = a / b # float\n",
    "type(x)\n"
   ]
  },
  {
   "cell_type": "markdown",
   "metadata": {},
   "source": [
    "- ## Basic operators:\n",
    "\n",
    "    - ### Arithmetic, comparison, and logical operators."
   ]
  },
  {
   "cell_type": "markdown",
   "metadata": {},
   "source": [
    "### Arithmetic Operators With Numerical Variables"
   ]
  },
  {
   "cell_type": "markdown",
   "metadata": {},
   "source": [
    "```python\n",
    "sum = a + b # int + float = float\n",
    "sub = a - b\n",
    "mul = a * b\n",
    "div = a / b # int / float = float\n",
    "int_div = a // b # floor(a / b)\n",
    "mod = a % b # mod\n",
    "pow = 2 ** 3\n",
    "\n",
    "\n",
    "print(f\"a + b = {sum}\")\n",
    "print(f\"a - b = {sub}\")\n",
    "print(f\"a * b = {mul}\")\n",
    "print(f\"a / b = {div}\")\n",
    "print(f\"a // b = {int_div}\")\n",
    "print(f\"a % b = {mod}\")\n",
    "print(f\"2 ^ b = {pow}\")\n"
   ]
  },
  {
   "cell_type": "code",
   "execution_count": 27,
   "metadata": {},
   "outputs": [
    {
     "data": {
      "text/plain": [
       "float"
      ]
     },
     "execution_count": 27,
     "metadata": {},
     "output_type": "execute_result"
    }
   ],
   "source": [
    "a1 = 2\n",
    "b1 = 3.123\n",
    "\n",
    "sum = a1 + b1\n",
    "type(sum)"
   ]
  },
  {
   "cell_type": "markdown",
   "metadata": {},
   "source": [
    "### Arithmetic Operators With Strings"
   ]
  },
  {
   "cell_type": "markdown",
   "metadata": {},
   "source": [
    "```python\n",
    "message = \"hello\" + \" \" + \"world\"\n",
    "message1  = \"hello \" * 8\n",
    "\n",
    "print(message)\n",
    "print(message1)"
   ]
  },
  {
   "cell_type": "code",
   "execution_count": null,
   "metadata": {},
   "outputs": [
    {
     "name": "stdout",
     "output_type": "stream",
     "text": [
      "hellohellohellohellohellohellohellohellohellohello\n"
     ]
    }
   ],
   "source": [
    "message = \"hello\" * 10 \n",
    "\n",
    "print(message)"
   ]
  },
  {
   "cell_type": "markdown",
   "metadata": {},
   "source": [
    "### Logical Operators"
   ]
  },
  {
   "cell_type": "markdown",
   "metadata": {},
   "source": [
    "```python\n",
    "x = 12\n",
    "\n",
    "x == 11\n",
    "x == 12\n",
    "x < 11"
   ]
  },
  {
   "cell_type": "code",
   "execution_count": 32,
   "metadata": {},
   "outputs": [
    {
     "name": "stdout",
     "output_type": "stream",
     "text": [
      "False\n"
     ]
    }
   ],
   "source": [
    "x = 12\n",
    "\n",
    "print(x < 12)"
   ]
  },
  {
   "cell_type": "markdown",
   "metadata": {},
   "source": [
    "```python\n",
    "conditional1 = x == 11 # False\n",
    "conditional2 = x != 12 # False\n",
    "conditional3 = x < 15 # True\n",
    "\n",
    "conditional1 and conditional2\n",
    "conditional1 or conditional2\n",
    "not conditional1"
   ]
  },
  {
   "cell_type": "code",
   "execution_count": 35,
   "metadata": {},
   "outputs": [
    {
     "data": {
      "text/plain": [
       "False"
      ]
     },
     "execution_count": 35,
     "metadata": {},
     "output_type": "execute_result"
    }
   ],
   "source": [
    "x == 11 or x != 12 # false or false"
   ]
  },
  {
   "cell_type": "code",
   "execution_count": 37,
   "metadata": {},
   "outputs": [
    {
     "data": {
      "text/plain": [
       "False"
      ]
     },
     "execution_count": 37,
     "metadata": {},
     "output_type": "execute_result"
    }
   ],
   "source": [
    "conditional = x == 12\n",
    "not conditional\n"
   ]
  },
  {
   "cell_type": "markdown",
   "metadata": {},
   "source": [
    "- ## String Operations"
   ]
  },
  {
   "cell_type": "markdown",
   "metadata": {},
   "source": [
    "```python\n",
    "name = \"Walter\"\n",
    "surname = \"White\"\n",
    "age = 50\n",
    "\n",
    "name + surname"
   ]
  },
  {
   "cell_type": "code",
   "execution_count": 38,
   "metadata": {},
   "outputs": [
    {
     "data": {
      "text/plain": [
       "'Ab'"
      ]
     },
     "execution_count": 38,
     "metadata": {},
     "output_type": "execute_result"
    }
   ],
   "source": [
    "name = 'A'\n",
    "surname = 'b'\n",
    "\n",
    "name + surname"
   ]
  },
  {
   "cell_type": "markdown",
   "metadata": {},
   "source": [
    "### String Formatting"
   ]
  },
  {
   "cell_type": "markdown",
   "metadata": {},
   "source": [
    "```\n",
    "s - String (or any object with a string representation, like numbers)\n",
    "\n",
    "d - Integers\n",
    "\n",
    "f - Floating point numbers\n",
    "\n",
    ".<number of digits>f - Floating point numbers with a fixed amount of digits to the right of the dot.\n",
    "\n",
    "x / X - Integers in hex representation (lowercase/uppercase)"
   ]
  },
  {
   "cell_type": "markdown",
   "metadata": {},
   "source": [
    "```python\n",
    "# Old style\n",
    "\"Your name is %s, you're %d years old.\" % (name, age)\n",
    "\n",
    "# Using .format() method\n",
    "\"Your name is {}, you're {} years old.\".format(name, age)\n",
    "\n",
    "# f-strings (recommended)\n",
    "f\"Your name is {name}, you're {age} years old.\""
   ]
  },
  {
   "cell_type": "code",
   "execution_count": 40,
   "metadata": {},
   "outputs": [
    {
     "name": "stdout",
     "output_type": "stream",
     "text": [
      "name = Walter, surname = White, age = 50\n"
     ]
    }
   ],
   "source": [
    "name = \"Walter\"\n",
    "surname = \"White\"\n",
    "age = 50\n",
    "\n",
    "print(f\"name = {name}, surname = {surname}, age = {age}\")"
   ]
  },
  {
   "cell_type": "markdown",
   "metadata": {},
   "source": [
    "```python\n",
    "num = 124\n",
    "\n",
    "f\"hex_num = {num:X}\""
   ]
  },
  {
   "cell_type": "code",
   "execution_count": 42,
   "metadata": {},
   "outputs": [
    {
     "name": "stdout",
     "output_type": "stream",
     "text": [
      "num =  7c\n"
     ]
    }
   ],
   "source": [
    "num = 124\n",
    "\n",
    "print(f\"num = {num: x}\")"
   ]
  },
  {
   "cell_type": "markdown",
   "metadata": {},
   "source": [
    "```python\n",
    "num = 3.1415\n",
    "\n",
    "f\"pi = {num:.2f}\""
   ]
  },
  {
   "cell_type": "code",
   "execution_count": 45,
   "metadata": {},
   "outputs": [
    {
     "name": "stdout",
     "output_type": "stream",
     "text": [
      "pi =  3.1415\n"
     ]
    }
   ],
   "source": [
    "num = 3.1415\n",
    "\n",
    "print(f\"pi = {num: .4f}\")"
   ]
  },
  {
   "cell_type": "markdown",
   "metadata": {},
   "source": [
    "### More String Methods"
   ]
  },
  {
   "cell_type": "markdown",
   "metadata": {},
   "source": [
    "```python\n",
    "len(), .upper(), .lower(), .startswith(), .endswith(), .split(), .strip(), .index(), .count()"
   ]
  },
  {
   "cell_type": "markdown",
   "metadata": {},
   "source": [
    "```python\n",
    "str = 'Hello'\n",
    "\n",
    "len(str) # python method\n",
    "str.upper() # string class methods\n",
    "str.lower()\n",
    "str.swapcase()\n",
    "str.count('l')"
   ]
  },
  {
   "cell_type": "code",
   "execution_count": 66,
   "metadata": {},
   "outputs": [
    {
     "data": {
      "text/plain": [
       "2"
      ]
     },
     "execution_count": 66,
     "metadata": {},
     "output_type": "execute_result"
    }
   ],
   "source": [
    "str = 'hello'\n",
    "\n",
    "len(str)\n",
    "# str.lower()\n",
    "\n",
    "str.index('l')"
   ]
  },
  {
   "cell_type": "markdown",
   "metadata": {},
   "source": [
    "### I/O?"
   ]
  },
  {
   "cell_type": "markdown",
   "metadata": {},
   "source": [
    "```\n",
    "x = input()"
   ]
  },
  {
   "cell_type": "code",
   "execution_count": 67,
   "metadata": {},
   "outputs": [
    {
     "name": "stdout",
     "output_type": "stream",
     "text": [
      "adini gir ali\n"
     ]
    },
    {
     "name": "stdout",
     "output_type": "stream",
     "text": [
      "ali\n"
     ]
    }
   ],
   "source": [
    "x = input(\"adini gir\")\n",
    "print(x)\n"
   ]
  },
  {
   "cell_type": "markdown",
   "metadata": {},
   "source": [
    "```python\n",
    "if kosul:\n",
    "    print(1)\n",
    "elif kosul2:\n",
    "    print(2)\n",
    "else:\n",
    "    print(4)"
   ]
  },
  {
   "cell_type": "code",
   "execution_count": 92,
   "metadata": {},
   "outputs": [
    {
     "name": "stdout",
     "output_type": "stream",
     "text": [
      "notunu gir 55\n"
     ]
    },
    {
     "name": "stdout",
     "output_type": "stream",
     "text": [
      "CB\n"
     ]
    }
   ],
   "source": [
    "n = int(input(\"notunu gir\"))\n",
    "\n",
    "if n < 100 and n >= 85:\n",
    "    print(\"AA\")\n",
    "elif n < 85 and n >= 75:\n",
    "    print(\"BA\")\n",
    "elif n < 75 and n >= 65:\n",
    "    print(\"BB\")\n",
    "elif n < 65 and n >= 55:\n",
    "    print(\"CB\")\n",
    "else:\n",
    "    print(\"hicbiri degil\")"
   ]
  },
  {
   "cell_type": "code",
   "execution_count": 96,
   "metadata": {},
   "outputs": [
    {
     "data": {
      "text/plain": [
       "3"
      ]
     },
     "execution_count": 96,
     "metadata": {},
     "output_type": "execute_result"
    }
   ],
   "source": [
    "def sum(x, y):\n",
    "    return x + y\n",
    "\n",
    "sum(1, 2)"
   ]
  },
  {
   "cell_type": "code",
   "execution_count": 100,
   "metadata": {},
   "outputs": [
    {
     "name": "stdout",
     "output_type": "stream",
     "text": [
      "AA\n"
     ]
    }
   ],
   "source": [
    "def harf_notu(n):\n",
    "    if n < 100 and n >= 85:\n",
    "        return \"AA\"\n",
    "    elif n < 85 and n >= 75:\n",
    "        return \"BA\"\n",
    "    elif n < 75 and n >= 65:\n",
    "        return \"BB\"\n",
    "    elif n < 65 and n >= 55:\n",
    "        return \"CB\"\n",
    "    else:\n",
    "        return \"hicbiri degil\"\n",
    "\n",
    "x = harf_notu(99)\n",
    "\n",
    "print(x)"
   ]
  },
  {
   "cell_type": "markdown",
   "metadata": {},
   "source": [
    "# 6. Next Steps in Programming"
   ]
  },
  {
   "cell_type": "markdown",
   "metadata": {},
   "source": [
    "- What students will achieve by the end of the course.\n",
    "- Brief overview of what’s coming in the next few lessons."
   ]
  },
  {
   "cell_type": "code",
   "execution_count": 111,
   "metadata": {},
   "outputs": [
    {
     "data": {
      "text/plain": [
       "3"
      ]
     },
     "execution_count": 111,
     "metadata": {},
     "output_type": "execute_result"
    }
   ],
   "source": [
    "a = [1, 'abc', 3]\n",
    "\n",
    "x = \"abc\"\n",
    "a = ['a', 'b', 'c'] # 3, 0-2\n",
    "\n",
    "len(x)"
   ]
  },
  {
   "cell_type": "code",
   "execution_count": 11,
   "metadata": {},
   "outputs": [],
   "source": [
    "# 1.1 Python basics: Data types, Arithmetic/Logic operations, String operations\n",
    "# 1.2 Python basics: Data Structures, Conditionals ?(Loops, Functions, Classes)\n",
    "\n",
    "# 2.1\n",
    "# 2.2\n",
    "\n",
    "# 3.1\n",
    "# 3.2\n",
    "\n",
    "# 4.1\n",
    "# 4.2"
   ]
  },
  {
   "cell_type": "markdown",
   "metadata": {},
   "source": [
    "# Summary\n",
    "\n",
    "Today we learned:\n",
    "- What programming is.\n",
    "- Different types of programming languages.\n",
    "- Basics of Python syntax, variables, and data types.\n"
   ]
  },
  {
   "cell_type": "markdown",
   "metadata": {},
   "source": [
    "# Lecture Notes\n",
    "\n",
    "You can find all the notes here: https://github.com/diyeddin/python-for-ai \\\n",
    "The material will be updated as we go forward."
   ]
  },
  {
   "cell_type": "markdown",
   "metadata": {},
   "source": [
    "## Resources & Links\n",
    "\n",
    "- https://www.freecodecamp.org/news/what-is-programming/\n",
    "- https://www.freecodecamp.org/news/compiled-versus-interpreted-languages/\n",
    "- https://www.freecodecamp.org/news/just-in-time-compilation-explained/\n",
    "- https://www.learnpython.org/en/Basic_String_Operations\n",
    "- https://realpython.com/python-f-strings/\n"
   ]
  }
 ],
 "metadata": {
  "kernelspec": {
   "display_name": "Python 3 (ipykernel)",
   "language": "python",
   "name": "python3"
  },
  "language_info": {
   "codemirror_mode": {
    "name": "ipython",
    "version": 3
   },
   "file_extension": ".py",
   "mimetype": "text/x-python",
   "name": "python",
   "nbconvert_exporter": "python",
   "pygments_lexer": "ipython3",
   "version": "3.11.9"
  }
 },
 "nbformat": 4,
 "nbformat_minor": 4
}
