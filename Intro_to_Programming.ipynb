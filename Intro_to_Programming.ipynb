{
 "cells": [
  {
   "cell_type": "markdown",
   "metadata": {},
   "source": [
    "# Table of Contents\n",
    "1. [What is Programming](#1.-What-is-Programming?)\n",
    "\n",
    "2. [Types of Programming Languages](#2.-Types-of-Programming-Languages)\n",
    "\n",
    "3. [Why Python for AI?](#3.-Why-Python-for-AI?)\n",
    "\n",
    "4. [Getting Started with Python](#4.-Getting-Started-with-Python)\n",
    "\n",
    "5. [Key Concepts to Start With](#5.-Key-Concepts-to-Start-With)\n",
    "\n",
    "6. [Next Steps in Programming](#6.-Next-Steps-in-Programming)\n"
   ]
  },
  {
   "cell_type": "markdown",
   "metadata": {},
   "source": [
    "# 1. What is Programming?"
   ]
  },
  {
   "cell_type": "markdown",
   "metadata": {
    "jp-MarkdownHeadingCollapsed": true
   },
   "source": [
    "- ## Definition of programming and its role in problem-solving.\n",
    "    Programming is the process of giving the computer a set of instructions that describe how a program should be carried out. \\\n",
    "    It can be done using a *Programming Language*, which then gets converted to a language that the machine understands called the *Machine Language*. \\\n",
    "    Programming languages are here to provide us with an easier way to communicate with the machine, instead of just using Assembly instructions or even plain Binary."
   ]
  },
  {
   "cell_type": "markdown",
   "metadata": {},
   "source": [
    "<p style=\"text-align: center;\">\n",
    "    Toy Flowchart\n",
    "</p>\n",
    "<br/>\n",
    "<div style=\"text-align:center\">\n",
    "    <img src=\"src/flowchart.png\" />\n",
    "</div>"
   ]
  },
  {
   "cell_type": "markdown",
   "metadata": {
    "jp-MarkdownHeadingCollapsed": true
   },
   "source": [
    "- ## How programming translates human instructions into machine actions.\n",
    "    It does so using a *Compiler* which converts human readable code to Machine language or Binary which can be understood by the Processor."
   ]
  },
  {
   "cell_type": "markdown",
   "metadata": {},
   "source": [
    "# 2. Types of Programming Languages"
   ]
  },
  {
   "cell_type": "markdown",
   "metadata": {},
   "source": [
    "- Procedural Programming: Step-by-step instructions (e.g., C).\n",
    "- Object-Oriented Programming: Working with objects and classes (e.g., Python, Java, C#).\n",
    "- Functional Programming: Focus on functions and immutability (e.g., Haskell, Python).\n",
    "- Declarative Programming: What to achieve rather than how (e.g., SQL)."
   ]
  },
  {
   "cell_type": "markdown",
   "metadata": {},
   "source": [
    "## 2.1. Compiled vs Interpreted Languages"
   ]
  },
  {
   "cell_type": "markdown",
   "metadata": {},
   "source": [
    "- ### Definition of compiled and interpreted languages.\n",
    "    - *Compiled* languages are converted directly into machine code that the processor can execute.\n",
    "    - *Interpreters* run through a program line by line and execute each command."
   ]
  },
  {
   "cell_type": "markdown",
   "metadata": {},
   "source": [
    "- ### Advantages and disadvantages of each approach.\n",
    "    - Compiled languages tend to be faster and more efficient. They also give the developer more control over hardware aspects, like memory management and CPU usage. On the down side, they require additional time to complete the compilation step before testing and the resulting binary code is dependent on the current platform.\n",
    "    - Interpreted languages tend to be more flexible, and often offer features like dynamic typing and smaller program size. Also, because the interpreters execute the source program code themselves, the code itself is platform independent. On the down side, they take more time to execute than the compiled languages. But with the development of *Just-in-Time Compilation*, that gap is shrinking. (Look: JVM (Java), CLR (C#))"
   ]
  },
  {
   "cell_type": "markdown",
   "metadata": {},
   "source": [
    "- ### Examples\n",
    "    - Compiled: C, C++, Go...\n",
    "    - Interpreted: Python, JavaScript, PHP..."
   ]
  },
  {
   "cell_type": "markdown",
   "metadata": {},
   "source": [
    "## 2.2. Dynamically vs Strongly Typed"
   ]
  },
  {
   "cell_type": "markdown",
   "metadata": {},
   "source": [
    "- ##### Explanation of type systems and their significance.\n"
   ]
  },
  {
   "cell_type": "markdown",
   "metadata": {},
   "source": [
    "- ##### Key differences between dynamic and static typing.\n"
   ]
  },
  {
   "cell_type": "markdown",
   "metadata": {},
   "source": [
    "- ##### Examples (Python as dynamically typed, Java as strongly typed)."
   ]
  },
  {
   "cell_type": "markdown",
   "metadata": {},
   "source": [
    "# 3. Why Python for AI?"
   ]
  },
  {
   "cell_type": "markdown",
   "metadata": {},
   "source": [
    "- Python's simplicity and readability.\n",
    "- Rich ecosystem of AI/ML libraries (e.g., NumPy, TensorFlow, PyTorch).\n",
    "- Active community and industry adoption."
   ]
  },
  {
   "cell_type": "markdown",
   "metadata": {},
   "source": []
  },
  {
   "cell_type": "markdown",
   "metadata": {},
   "source": [
    "# 4. Getting Started with Python"
   ]
  },
  {
   "cell_type": "markdown",
   "metadata": {},
   "source": [
    "- Setting up the environment:\n",
    "\n",
    "    - Installing Python https://www.python.org/downloads/\n",
    "    - IDE suggestions (e.g., VSCode, Anaconda, Jupyter Notebook).\n",
    "\n",
    "- First Python program: “Hello, World!”"
   ]
  },
  {
   "cell_type": "code",
   "execution_count": 1,
   "metadata": {},
   "outputs": [
    {
     "name": "stdout",
     "output_type": "stream",
     "text": [
      "Hello, World!\n"
     ]
    }
   ],
   "source": [
    "print(\"Hello, World!\")"
   ]
  },
  {
   "cell_type": "markdown",
   "metadata": {},
   "source": [
    "# 5. Key Concepts to Start With"
   ]
  },
  {
   "cell_type": "markdown",
   "metadata": {},
   "source": [
    "- ## Introduction to syntax and indentation in Python.\n",
    "\\\n",
    "![Python Indentation](src/indentation.jpg)"
   ]
  },
  {
   "cell_type": "markdown",
   "metadata": {},
   "source": [
    "### Comments"
   ]
  },
  {
   "cell_type": "code",
   "execution_count": 5,
   "metadata": {},
   "outputs": [],
   "source": [
    "# This is a comment, it's used to explain what the code does. It's advised that you use comments to explain ambiguous parts of your code!"
   ]
  },
  {
   "cell_type": "markdown",
   "metadata": {},
   "source": [
    "### Indentation"
   ]
  },
  {
   "cell_type": "code",
   "execution_count": 14,
   "metadata": {},
   "outputs": [
    {
     "name": "stdout",
     "output_type": "stream",
     "text": [
      "Worked!\n"
     ]
    }
   ],
   "source": [
    "# a correctly indented if block\n",
    "if 5 > 3:\n",
    "    print(\"Worked!\")\n",
    "\n",
    "# this is wrong\n",
    "# if 5 > 3:\n",
    "# print(\"Worked!\")"
   ]
  },
  {
   "cell_type": "markdown",
   "metadata": {},
   "source": [
    "### Creating Variables"
   ]
  },
  {
   "cell_type": "code",
   "execution_count": 4,
   "metadata": {},
   "outputs": [
    {
     "name": "stdout",
     "output_type": "stream",
     "text": [
      "5\n"
     ]
    }
   ],
   "source": [
    "x = 5\n",
    "y = \"Hello!\"\n",
    "\n",
    "print(x)"
   ]
  },
  {
   "cell_type": "markdown",
   "metadata": {},
   "source": [
    "- ## Variables and data types:\n",
    "    - ### Strings, integers, floats, booleans."
   ]
  },
  {
   "cell_type": "code",
   "execution_count": 42,
   "metadata": {},
   "outputs": [
    {
     "name": "stdout",
     "output_type": "stream",
     "text": [
      "abcd\n"
     ]
    },
    {
     "data": {
      "text/plain": [
       "bytes"
      ]
     },
     "execution_count": 42,
     "metadata": {},
     "output_type": "execute_result"
    }
   ],
   "source": [
    "a = 123 # int\n",
    "b = 3.14 # float\n",
    "c = 2 - 3j # complex number\n",
    "d = True # boolean\n",
    "e = 'abcd' # str\n",
    "f = b'abcd' # bytes\n",
    "\n",
    "print(e)\n",
    "type(f)"
   ]
  },
  {
   "cell_type": "markdown",
   "metadata": {},
   "source": [
    "- ## Basic operators:\n",
    "\n",
    "    - ### Arithmetic, comparison, and logical operators."
   ]
  },
  {
   "cell_type": "markdown",
   "metadata": {},
   "source": [
    "### Arithmetic Operators With Numerical Variables"
   ]
  },
  {
   "cell_type": "code",
   "execution_count": 55,
   "metadata": {},
   "outputs": [
    {
     "name": "stdout",
     "output_type": "stream",
     "text": [
      "a + b = 126.14\n",
      "a - b = 119.86\n",
      "a * b = 386.22\n",
      "a / b = 39.17197452229299\n",
      "a // b = 39.0\n",
      "a % b = 0.5399999999999952\n",
      "2 ^ b = 8\n"
     ]
    }
   ],
   "source": [
    "sum = a + b # int + float = float\n",
    "sub = a - b\n",
    "mul = a * b\n",
    "div = a / b # int / float = float\n",
    "int_div = a // b # floor(a / b)\n",
    "mod = a % b # mod\n",
    "pow = 2 ** 3\n",
    "\n",
    "\n",
    "print(f\"a + b = {sum}\")\n",
    "print(f\"a - b = {sub}\")\n",
    "print(f\"a * b = {mul}\")\n",
    "print(f\"a / b = {div}\")\n",
    "print(f\"a // b = {int_div}\")\n",
    "print(f\"a % b = {mod}\")\n",
    "print(f\"2 ^ b = {pow}\")\n"
   ]
  },
  {
   "cell_type": "markdown",
   "metadata": {},
   "source": [
    "### Arithmetic Operators With Strings"
   ]
  },
  {
   "cell_type": "code",
   "execution_count": 49,
   "metadata": {},
   "outputs": [
    {
     "name": "stdout",
     "output_type": "stream",
     "text": [
      "hello world\n",
      "hello hello hello hello hello hello hello hello \n"
     ]
    }
   ],
   "source": [
    "message = \"hello\" + \" \" + \"world\"\n",
    "message1  = \"hello \" * 8\n",
    "\n",
    "print(message)\n",
    "print(message1)"
   ]
  },
  {
   "cell_type": "markdown",
   "metadata": {},
   "source": [
    "### Logical Operators"
   ]
  },
  {
   "cell_type": "code",
   "execution_count": 63,
   "metadata": {},
   "outputs": [
    {
     "name": "stdout",
     "output_type": "stream",
     "text": [
      "False\n",
      "True\n",
      "False\n"
     ]
    }
   ],
   "source": [
    "x = 12\n",
    "\n",
    "print(x == 11)\n",
    "print(x == 12)\n",
    "print(x < 11)"
   ]
  },
  {
   "cell_type": "code",
   "execution_count": 74,
   "metadata": {},
   "outputs": [
    {
     "name": "stdout",
     "output_type": "stream",
     "text": [
      "False\n",
      "True\n",
      "True\n"
     ]
    }
   ],
   "source": [
    "conditional1 = x == 11 # False\n",
    "conditional2 = x < 15 # True\n",
    "\n",
    "print(conditional1 and conditional2)\n",
    "print(conditional1 or conditional2)\n",
    "print(not conditional1)"
   ]
  },
  {
   "cell_type": "markdown",
   "metadata": {},
   "source": [
    "- ## String Operations"
   ]
  },
  {
   "cell_type": "code",
   "execution_count": 85,
   "metadata": {},
   "outputs": [
    {
     "name": "stdout",
     "output_type": "stream",
     "text": [
      "WalterWhite\n"
     ]
    }
   ],
   "source": [
    "name = \"Walter\"\n",
    "surname = \"White\"\n",
    "age = 50\n",
    "\n",
    "print(name + surname)"
   ]
  },
  {
   "cell_type": "markdown",
   "metadata": {},
   "source": [
    "### String Formatting"
   ]
  },
  {
   "cell_type": "markdown",
   "metadata": {},
   "source": [
    "```\n",
    "%s - String (or any object with a string representation, like numbers)\n",
    "\n",
    "%d - Integers\n",
    "\n",
    "%f - Floating point numbers\n",
    "\n",
    "%.<number of digits>f - Floating point numbers with a fixed amount of digits to the right of the dot.\n",
    "\n",
    "%x / %X - Integers in hex representation (lowercase/uppercase)"
   ]
  },
  {
   "cell_type": "code",
   "execution_count": 87,
   "metadata": {},
   "outputs": [
    {
     "name": "stdout",
     "output_type": "stream",
     "text": [
      "Your name is Walter, you're 50 years old.\n"
     ]
    }
   ],
   "source": [
    "print(\"Your name is %s, you're %d years old.\" %(name, age))"
   ]
  },
  {
   "cell_type": "code",
   "execution_count": null,
   "metadata": {},
   "outputs": [],
   "source": []
  },
  {
   "cell_type": "code",
   "execution_count": null,
   "metadata": {},
   "outputs": [],
   "source": []
  },
  {
   "cell_type": "markdown",
   "metadata": {},
   "source": []
  },
  {
   "cell_type": "code",
   "execution_count": null,
   "metadata": {},
   "outputs": [],
   "source": []
  },
  {
   "cell_type": "markdown",
   "metadata": {},
   "source": [
    "# 6. Next Steps in Programming"
   ]
  },
  {
   "cell_type": "markdown",
   "metadata": {},
   "source": [
    "- What students will achieve by the end of the course.\n",
    "- Brief overview of what’s coming in the next few lessons."
   ]
  },
  {
   "cell_type": "markdown",
   "metadata": {},
   "source": []
  },
  {
   "cell_type": "markdown",
   "metadata": {},
   "source": [
    "### Easter Eggs"
   ]
  },
  {
   "cell_type": "code",
   "execution_count": 1,
   "metadata": {},
   "outputs": [
    {
     "name": "stdout",
     "output_type": "stream",
     "text": [
      "The Zen of Python, by Tim Peters\n",
      "\n",
      "Beautiful is better than ugly.\n",
      "Explicit is better than implicit.\n",
      "Simple is better than complex.\n",
      "Complex is better than complicated.\n",
      "Flat is better than nested.\n",
      "Sparse is better than dense.\n",
      "Readability counts.\n",
      "Special cases aren't special enough to break the rules.\n",
      "Although practicality beats purity.\n",
      "Errors should never pass silently.\n",
      "Unless explicitly silenced.\n",
      "In the face of ambiguity, refuse the temptation to guess.\n",
      "There should be one-- and preferably only one --obvious way to do it.\n",
      "Although that way may not be obvious at first unless you're Dutch.\n",
      "Now is better than never.\n",
      "Although never is often better than *right* now.\n",
      "If the implementation is hard to explain, it's a bad idea.\n",
      "If the implementation is easy to explain, it may be a good idea.\n",
      "Namespaces are one honking great idea -- let's do more of those!\n"
     ]
    }
   ],
   "source": [
    "import this"
   ]
  },
  {
   "cell_type": "markdown",
   "metadata": {},
   "source": [
    "## Resources & Links\n",
    "\n",
    "- https://www.freecodecamp.org/news/what-is-programming/\n",
    "- https://www.freecodecamp.org/news/compiled-versus-interpreted-languages/\n",
    "- https://www.freecodecamp.org/news/just-in-time-compilation-explained/\n",
    "- "
   ]
  }
 ],
 "metadata": {
  "kernelspec": {
   "display_name": "Python 3 (ipykernel)",
   "language": "python",
   "name": "python3"
  },
  "language_info": {
   "codemirror_mode": {
    "name": "ipython",
    "version": 3
   },
   "file_extension": ".py",
   "mimetype": "text/x-python",
   "name": "python",
   "nbconvert_exporter": "python",
   "pygments_lexer": "ipython3",
   "version": "3.11.9"
  }
 },
 "nbformat": 4,
 "nbformat_minor": 4
}
